{
 "cells": [
  {
   "cell_type": "code",
   "execution_count": 2,
   "metadata": {},
   "outputs": [
    {
     "name": "stdout",
     "output_type": "stream",
     "text": [
      "Data processing complete.\n"
     ]
    }
   ],
   "source": [
    "import os\n",
    "import shutil\n",
    "\n",
    "def create_directory_if_not_exists(directory):\n",
    "    if not os.path.exists(directory):\n",
    "        os.makedirs(directory)\n",
    "\n",
    "def move_files(src_folder, dst_folder):\n",
    "    # Define the new categories\n",
    "    categories = {\n",
    "        'less_than_5': {'1', '2', '3', '4'},\n",
    "        'exactly_5': {'5'},\n",
    "        'more_than_5': {'6', '7', '8', '9'}\n",
    "    }\n",
    "    \n",
    "    for category, folder_numbers in categories.items():\n",
    "        target_folder = os.path.join(dst_folder, category)\n",
    "        create_directory_if_not_exists(target_folder)\n",
    "    \n",
    "    for folder in os.listdir(src_folder):\n",
    "        folder_path = os.path.join(src_folder, folder)\n",
    "        if folder in {'1', '2', '3', '4', '5', '6', '7', '8', '9'} and os.path.isdir(folder_path):\n",
    "            if folder in categories['less_than_5']:\n",
    "                target_folder = os.path.join(dst_folder, 'less_than_5')\n",
    "            elif folder in categories['exactly_5']:\n",
    "                target_folder = os.path.join(dst_folder, 'exactly_5')\n",
    "            elif folder in categories['more_than_5']:\n",
    "                target_folder = os.path.join(dst_folder, 'more_than_5')\n",
    "            \n",
    "            for filename in os.listdir(folder_path):\n",
    "                file_path = os.path.join(folder_path, filename)\n",
    "                if os.path.isfile(file_path):\n",
    "                    shutil.copy(file_path, target_folder)\n",
    "\n",
    "def process_dataset(src_folder, dst_folder):\n",
    "    create_directory_if_not_exists(dst_folder)\n",
    "    move_files(src_folder, dst_folder)\n",
    "\n",
    "# Define paths\n",
    "training_data_src = 'training_data/ratings_female'\n",
    "testing_data_src = 'testing_data/ratings_female'\n",
    "training_data_dst = 'training_data/ratings_female_simplified'\n",
    "testing_data_dst = 'testing_data/ratings_female_simplified'\n",
    "\n",
    "# Process the datasets\n",
    "process_dataset(training_data_src, training_data_dst)\n",
    "process_dataset(testing_data_src, testing_data_dst)\n",
    "\n",
    "print(\"Data processing complete.\")\n"
   ]
  },
  {
   "cell_type": "code",
   "execution_count": 1,
   "metadata": {},
   "outputs": [
    {
     "name": "stdout",
     "output_type": "stream",
     "text": [
      "Data reduction complete.\n"
     ]
    }
   ],
   "source": [
    "import os\n",
    "import random\n",
    "import shutil\n",
    "\n",
    "# Paths to the existing data\n",
    "training_data_path = \"training_data/ratings_female_simplified/\"\n",
    "testing_data_path = \"testing_data/ratings_female_simplified/\"\n",
    "\n",
    "# Paths to the new directories\n",
    "new_training_data_path = \"training_data/ratings_female_simplified_80p/\"\n",
    "new_testing_data_path = \"testing_data/ratings_female_simplified_80p/\"\n",
    "\n",
    "# Function to create the new data directories with 80% data\n",
    "def create_reduced_dataset(source_path, destination_path, reduction_percentage=0.8):\n",
    "    # Ensure the destination directory exists\n",
    "    os.makedirs(destination_path, exist_ok=True)\n",
    "    \n",
    "    # List the categories within the source directory\n",
    "    categories = os.listdir(source_path)\n",
    "    \n",
    "    for category in categories:\n",
    "        category_path = os.path.join(source_path, category)\n",
    "        new_category_path = os.path.join(destination_path, category)\n",
    "        \n",
    "        # Make the new category directory\n",
    "        os.makedirs(new_category_path, exist_ok=True)\n",
    "        \n",
    "        # Get all files in the current category\n",
    "        files = os.listdir(category_path)\n",
    "        \n",
    "        # Calculate the number of files to retain (80%)\n",
    "        num_files_to_retain = int(len(files) * reduction_percentage)\n",
    "        \n",
    "        # Randomly select files to retain\n",
    "        files_to_copy = random.sample(files, num_files_to_retain)\n",
    "        \n",
    "        # Copy the selected files to the new directory\n",
    "        for file in files_to_copy:\n",
    "            src_file = os.path.join(category_path, file)\n",
    "            dest_file = os.path.join(new_category_path, file)\n",
    "            shutil.copy2(src_file, dest_file)\n",
    "\n",
    "# Create the reduced training and testing datasets\n",
    "create_reduced_dataset(training_data_path, new_training_data_path)\n",
    "create_reduced_dataset(testing_data_path, new_testing_data_path)\n",
    "\n",
    "print(\"Data reduction complete.\")\n"
   ]
  },
  {
   "cell_type": "code",
   "execution_count": null,
   "metadata": {},
   "outputs": [],
   "source": []
  }
 ],
 "metadata": {
  "kernelspec": {
   "display_name": ".venv",
   "language": "python",
   "name": "python3"
  },
  "language_info": {
   "codemirror_mode": {
    "name": "ipython",
    "version": 3
   },
   "file_extension": ".py",
   "mimetype": "text/x-python",
   "name": "python",
   "nbconvert_exporter": "python",
   "pygments_lexer": "ipython3",
   "version": "3.10.11"
  }
 },
 "nbformat": 4,
 "nbformat_minor": 2
}
